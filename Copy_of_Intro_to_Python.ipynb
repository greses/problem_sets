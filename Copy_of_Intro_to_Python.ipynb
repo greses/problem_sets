{
  "nbformat": 4,
  "nbformat_minor": 0,
  "metadata": {
    "colab": {
      "name": "Copy of Intro_to_Python.ipynb",
      "provenance": [],
      "collapsed_sections": [],
      "include_colab_link": true
    },
    "kernelspec": {
      "name": "python3",
      "display_name": "Python 3"
    }
  },
  "cells": [
    {
      "cell_type": "markdown",
      "metadata": {
        "id": "view-in-github",
        "colab_type": "text"
      },
      "source": [
        "<a href=\"https://colab.research.google.com/github/greses/problem_sets/blob/master/Copy_of_Intro_to_Python.ipynb\" target=\"_parent\"><img src=\"https://colab.research.google.com/assets/colab-badge.svg\" alt=\"Open In Colab\"/></a>"
      ]
    },
    {
      "cell_type": "markdown",
      "metadata": {
        "id": "zXh4ddXWCfFS"
      },
      "source": [
        "#Intro To Python\n"
      ]
    },
    {
      "cell_type": "markdown",
      "metadata": {
        "id": "dqTxcdDWYmWT"
      },
      "source": [
        "##**Assigning variables and datatypes**"
      ]
    },
    {
      "cell_type": "markdown",
      "metadata": {
        "id": "uZT8nt-0Zw2a"
      },
      "source": [
        "We use variables to keep the value of a calculation we perform. The syntax for assigning variables is the following:"
      ]
    },
    {
      "cell_type": "markdown",
      "metadata": {
        "id": "C4ZDx4VSaKvY"
      },
      "source": [
        "variable_name = variable_value"
      ]
    },
    {
      "cell_type": "code",
      "metadata": {
        "id": "jDBUja4fU9C3"
      },
      "source": [
        "a = 11"
      ],
      "execution_count": null,
      "outputs": []
    },
    {
      "cell_type": "markdown",
      "metadata": {
        "id": "4FBVCqjMaz1M"
      },
      "source": [
        "To display the value of a variable just type the variable name and execute the cell. "
      ]
    },
    {
      "cell_type": "code",
      "metadata": {
        "colab": {
          "base_uri": "https://localhost:8080/"
        },
        "id": "Q1IyOBo1YsmJ",
        "outputId": "8c8f4c91-b5c0-489c-e0cd-099567b4e895"
      },
      "source": [
        "a "
      ],
      "execution_count": null,
      "outputs": [
        {
          "output_type": "execute_result",
          "data": {
            "text/plain": [
              "11"
            ]
          },
          "metadata": {
            "tags": []
          },
          "execution_count": 3
        }
      ]
    },
    {
      "cell_type": "markdown",
      "metadata": {
        "id": "8CX18tVsbJzP"
      },
      "source": [
        "**Common numerical operations**"
      ]
    },
    {
      "cell_type": "code",
      "metadata": {
        "colab": {
          "base_uri": "https://localhost:8080/"
        },
        "id": "C20mhQUvYt3Y",
        "outputId": "56f6438a-bbdb-4b3b-c6e4-1a8621f75a5d"
      },
      "source": [
        "a + 2"
      ],
      "execution_count": null,
      "outputs": [
        {
          "output_type": "execute_result",
          "data": {
            "text/plain": [
              "13"
            ]
          },
          "metadata": {
            "tags": []
          },
          "execution_count": 4
        }
      ]
    },
    {
      "cell_type": "code",
      "metadata": {
        "colab": {
          "base_uri": "https://localhost:8080/"
        },
        "id": "_aWicgBHYxB_",
        "outputId": "2eb6ba5a-1d3f-4682-b9d0-16b0e287e140"
      },
      "source": [
        "a - 6"
      ],
      "execution_count": null,
      "outputs": [
        {
          "output_type": "execute_result",
          "data": {
            "text/plain": [
              "5"
            ]
          },
          "metadata": {
            "tags": []
          },
          "execution_count": 5
        }
      ]
    },
    {
      "cell_type": "code",
      "metadata": {
        "colab": {
          "base_uri": "https://localhost:8080/"
        },
        "id": "9Y49GjgTbQ20",
        "outputId": "1b1f058b-ab4c-4fd2-9eea-63d82c334eea"
      },
      "source": [
        "a / 2 # floating division"
      ],
      "execution_count": null,
      "outputs": [
        {
          "output_type": "execute_result",
          "data": {
            "text/plain": [
              "5.5"
            ]
          },
          "metadata": {
            "tags": []
          },
          "execution_count": 33
        }
      ]
    },
    {
      "cell_type": "code",
      "metadata": {
        "colab": {
          "base_uri": "https://localhost:8080/"
        },
        "id": "KFxPBFpsb8uY",
        "outputId": "9b39ae29-f80b-49c0-c3bc-098f122137e3"
      },
      "source": [
        "a // 2 # integer division. When the result is positive\n",
        "       # you can think of it as truncating (not rounding) to 0 decimal places, \n",
        "       #but be careful with that."
      ],
      "execution_count": null,
      "outputs": [
        {
          "output_type": "execute_result",
          "data": {
            "text/plain": [
              "5"
            ]
          },
          "metadata": {
            "tags": []
          },
          "execution_count": 6
        }
      ]
    },
    {
      "cell_type": "code",
      "metadata": {
        "colab": {
          "base_uri": "https://localhost:8080/"
        },
        "id": "HGvQV0x7cVrP",
        "outputId": "5cb9d949-8881-42b0-d93f-41a7ee6443d3"
      },
      "source": [
        "a * 2"
      ],
      "execution_count": null,
      "outputs": [
        {
          "output_type": "execute_result",
          "data": {
            "text/plain": [
              "22"
            ]
          },
          "metadata": {
            "tags": []
          },
          "execution_count": 36
        }
      ]
    },
    {
      "cell_type": "code",
      "metadata": {
        "colab": {
          "base_uri": "https://localhost:8080/"
        },
        "id": "LIrGUakncoNS",
        "outputId": "8ba831b0-c288-4d07-8ed9-d6be98ccbcfd"
      },
      "source": [
        "a ** 2 # raised to the power of"
      ],
      "execution_count": null,
      "outputs": [
        {
          "output_type": "execute_result",
          "data": {
            "text/plain": [
              "121"
            ]
          },
          "metadata": {
            "tags": []
          },
          "execution_count": 8
        }
      ]
    },
    {
      "cell_type": "code",
      "metadata": {
        "colab": {
          "base_uri": "https://localhost:8080/"
        },
        "id": "p12Kck6VcuF0",
        "outputId": "df31ea3b-cc97-4d14-b79a-f288740dc241"
      },
      "source": [
        "a % 2 # modulus operator, gives you the reminder of the division"
      ],
      "execution_count": null,
      "outputs": [
        {
          "output_type": "execute_result",
          "data": {
            "text/plain": [
              "1"
            ]
          },
          "metadata": {
            "tags": []
          },
          "execution_count": 39
        }
      ]
    },
    {
      "cell_type": "markdown",
      "metadata": {
        "id": "5FxRUR5dbWUY"
      },
      "source": [
        "We can combine different variables in a calculation, let's see this in action.</br> Type the following code into a code cell:"
      ]
    },
    {
      "cell_type": "code",
      "metadata": {
        "id": "DqOT1ZU-beVO"
      },
      "source": [
        "deltaH = -541.5 # kJ/mole\n",
        "deltaS = 10.4 # kJ/mole\n",
        "temperatute = 298 # K\n",
        "deltaG = deltaH - temperatute * deltaS"
      ],
      "execution_count": null,
      "outputs": []
    },
    {
      "cell_type": "markdown",
      "metadata": {
        "id": "GxUZGNVScmTM"
      },
      "source": [
        "Lines that begin with # are comment lines, the computer does not do anything with this comments. Here we used comments to remind the user what units we are using. Sometimes comments are used to explain what the code is doing"
      ]
    },
    {
      "cell_type": "markdown",
      "metadata": {
        "id": "E3PnUAa23U-o"
      },
      "source": [
        "**Printing variables**"
      ]
    },
    {
      "cell_type": "markdown",
      "metadata": {
        "id": "EjjRtzdgdkKJ"
      },
      "source": [
        "Typing the name of a variable to display its value works only when we are working in a notebook enviroment like we are now. When you write scripts locally in your machine you need to use the print() function. \n",
        "We can access any of the variables from the other cells, let's print the value that we calculated:"
      ]
    },
    {
      "cell_type": "code",
      "metadata": {
        "colab": {
          "base_uri": "https://localhost:8080/"
        },
        "id": "VjWEhSDKeJZ7",
        "outputId": "2f1063cf-6d28-4ea7-9bed-d2590cd6c4b8"
      },
      "source": [
        "print(deltaG)"
      ],
      "execution_count": null,
      "outputs": [
        {
          "output_type": "stream",
          "text": [
            "-3640.7000000000003\n"
          ],
          "name": "stdout"
        }
      ]
    },
    {
      "cell_type": "markdown",
      "metadata": {
        "id": "amr74GKO05rj"
      },
      "source": [
        "The print() function can print variables or just text:"
      ]
    },
    {
      "cell_type": "code",
      "metadata": {
        "colab": {
          "base_uri": "https://localhost:8080/"
        },
        "id": "vWDZp0Eq1lBe",
        "outputId": "e3b48850-564c-4af9-9026-f6515ea111c8"
      },
      "source": [
        "print(\"We can calcualate the deltaG\") # Note the text has to be between quotes. \n",
        "                                      # We are NOT printing the variable deltaG "
      ],
      "execution_count": null,
      "outputs": [
        {
          "output_type": "stream",
          "text": [
            "We can calcualate the deltaG\n"
          ],
          "name": "stdout"
        }
      ]
    },
    {
      "cell_type": "markdown",
      "metadata": {
        "id": "RQBqxwd314dW"
      },
      "source": [
        "We can combine variables and text:"
      ]
    },
    {
      "cell_type": "code",
      "metadata": {
        "colab": {
          "base_uri": "https://localhost:8080/"
        },
        "id": "nQWc-AFg1-lS",
        "outputId": "f6dd9f00-0bb8-4e84-ba47-9d3e7e848eaa"
      },
      "source": [
        "print(\"We calculated deltaG = \", deltaG, \"kJ/mole\")"
      ],
      "execution_count": null,
      "outputs": [
        {
          "output_type": "stream",
          "text": [
            "We calculated deltaG =  -3640.7000000000003 kJ/mole\n"
          ],
          "name": "stdout"
        }
      ]
    },
    {
      "cell_type": "markdown",
      "metadata": {
        "id": "TrEJ4rHuL2km"
      },
      "source": [
        "or we can use fstrings...<br>Python’s f-strings are an improved string formatting syntax. They’re string literals with an f at the beginning, outside the quotes. Expressions that appear in embedded curly braces ({}) are replaced with their values in the formatted string."
      ]
    },
    {
      "cell_type": "code",
      "metadata": {
        "colab": {
          "base_uri": "https://localhost:8080/"
        },
        "id": "-wF-2fCk2mYt",
        "outputId": "28be66a4-0de0-4569-de93-047033ac2268"
      },
      "source": [
        "print(f'We calculated deltaG = {deltaG} kJ/mole') # Double quotes work too, try it!"
      ],
      "execution_count": null,
      "outputs": [
        {
          "output_type": "stream",
          "text": [
            "We calculated deltaG = -3640.7000000000003 kJ/mole\n"
          ],
          "name": "stdout"
        }
      ]
    },
    {
      "cell_type": "markdown",
      "metadata": {
        "id": "e5c-zz1w34cl"
      },
      "source": [
        "**Modifying variables**"
      ]
    },
    {
      "cell_type": "code",
      "metadata": {
        "colab": {
          "base_uri": "https://localhost:8080/"
        },
        "id": "k7a2J0at6aLr",
        "outputId": "be1b1d8d-3d9e-47d7-f1a8-e98d19b1b902"
      },
      "source": [
        "deltaG * 1000"
      ],
      "execution_count": null,
      "outputs": [
        {
          "output_type": "execute_result",
          "data": {
            "text/plain": [
              "-3640700.0000000005"
            ]
          },
          "metadata": {
            "tags": []
          },
          "execution_count": 7
        }
      ]
    },
    {
      "cell_type": "code",
      "metadata": {
        "colab": {
          "base_uri": "https://localhost:8080/"
        },
        "id": "zEA5p9B26eIi",
        "outputId": "fe485edd-46d6-4a31-e52a-283f2a932cac"
      },
      "source": [
        "print(deltaG)"
      ],
      "execution_count": null,
      "outputs": [
        {
          "output_type": "stream",
          "text": [
            "-3640.7000000000003\n"
          ],
          "name": "stdout"
        }
      ]
    },
    {
      "cell_type": "markdown",
      "metadata": {
        "id": "2bUqaro16i_U"
      },
      "source": [
        "The variable deltaG remains unchanged, unless you assign (re save) the variable a different value; this is called _immutable_"
      ]
    },
    {
      "cell_type": "code",
      "metadata": {
        "colab": {
          "base_uri": "https://localhost:8080/"
        },
        "id": "yRvI2TFS6ulU",
        "outputId": "489614fa-d707-486d-b9fa-dad1fef8f054"
      },
      "source": [
        "deltaG = deltaG * 1000\n",
        "print(deltaG)"
      ],
      "execution_count": null,
      "outputs": [
        {
          "output_type": "stream",
          "text": [
            "-3640700.0000000005\n"
          ],
          "name": "stdout"
        }
      ]
    },
    {
      "cell_type": "markdown",
      "metadata": {
        "id": "TTMI7sGG7l5j"
      },
      "source": [
        "There are situations in which makes sense to overwrite a variable with a new value, but you should be careful.It is a better practice to give the variable a nwe name and keep your original variable "
      ]
    },
    {
      "cell_type": "code",
      "metadata": {
        "id": "m8x8LB5U9W4-"
      },
      "source": [
        "deltaG_joules = deltaG * 1000"
      ],
      "execution_count": null,
      "outputs": []
    },
    {
      "cell_type": "code",
      "metadata": {
        "colab": {
          "base_uri": "https://localhost:8080/"
        },
        "id": "-YqvR4ys9jkV",
        "outputId": "12a24d1f-b160-4bd9-92f1-05a26245d254"
      },
      "source": [
        "print(deltaG, deltaG_joules) # NOTE: we can print several variables in the same \n",
        "                             # statement"
      ],
      "execution_count": null,
      "outputs": [
        {
          "output_type": "stream",
          "text": [
            "-3640700.0000000005 -3640700000.0000005\n"
          ],
          "name": "stdout"
        }
      ]
    },
    {
      "cell_type": "markdown",
      "metadata": {
        "id": "GPyBIYvzClHp"
      },
      "source": [
        "Variables are references to values. Changing deltaG does not change deltaG_joules"
      ]
    },
    {
      "cell_type": "code",
      "metadata": {
        "id": "1BueixkIEZdr"
      },
      "source": [
        "deltaG = -3200.04"
      ],
      "execution_count": null,
      "outputs": []
    },
    {
      "cell_type": "code",
      "metadata": {
        "colab": {
          "base_uri": "https://localhost:8080/"
        },
        "id": "7teBM2dE90_Y",
        "outputId": "c6af666a-ea88-420f-d245-9eea0da834f0"
      },
      "source": [
        "print(f'deltaG = {deltaG} kJ/mole and deltaG_joules = {deltaG_joules} J/mole')"
      ],
      "execution_count": null,
      "outputs": [
        {
          "output_type": "stream",
          "text": [
            "deltaG = -3200.04 kJ/mole and deltaG_joules = -3200040000.0 J/mole\n"
          ],
          "name": "stdout"
        }
      ]
    },
    {
      "cell_type": "markdown",
      "metadata": {
        "id": "80e9OwECpIrS"
      },
      "source": [
        "<font color=\"Green\">**Test yourself:**</font><br>\n",
        "What values do the variables mass and age have after each of the following statements?<br>\n",
        "Test your answer by executing the lines<br>\n",
        "mass = 47.5<br>\n",
        "age = 122<br>\n",
        "mass = mass * 2.0<br>\n",
        "age = age - 20<br>"
      ]
    },
    {
      "cell_type": "code",
      "metadata": {
        "id": "oaSU7ccwmew4"
      },
      "source": [
        "mass = 47.5\n",
        "age = 122\n",
        "mass = mass * 2.0\n",
        "age = age - 20"
      ],
      "execution_count": null,
      "outputs": []
    },
    {
      "cell_type": "code",
      "metadata": {
        "colab": {
          "base_uri": "https://localhost:8080/"
        },
        "id": "QqyAru7ImjPa",
        "outputId": "217a8a6f-15ed-484a-e453-3ac019efead7"
      },
      "source": [
        "print(mass,age)"
      ],
      "execution_count": null,
      "outputs": [
        {
          "output_type": "stream",
          "text": [
            "95.0 102\n"
          ],
          "name": "stdout"
        }
      ]
    },
    {
      "cell_type": "markdown",
      "metadata": {
        "id": "K3Yd74y3pPIi"
      },
      "source": [
        "###**Native Datatypes**"
      ]
    },
    {
      "cell_type": "markdown",
      "metadata": {
        "id": "ezhahdBypn51"
      },
      "source": [
        "Each variable holds a particulary type of data. The most common data types are:<br> \n",
        "- strings (<font color=\"blue\">str)</font> <br>\n",
        "- integers (<font color=\"blue\">int)</font><br>\n",
        "- floating point numbers (<font color=\"blue\">float</font>)<br>\n",
        "- booleans which can be either True or False<br>\n",
        "- lists (ordered sequences of values)<br>\n",
        "- tuples (ordered, immutable sequences of values)<br>\n",
        "- sets (unordered bag of values) <br>\n",
        "- dictionaries (unordered bags of key-value pairs)<br>\n"
      ]
    },
    {
      "cell_type": "markdown",
      "metadata": {
        "id": "UyEDSUeKX1FC"
      },
      "source": [
        "You can find the data type of a variable with the function <font color=\"blue\">type(var)</font>"
      ]
    },
    {
      "cell_type": "code",
      "metadata": {
        "colab": {
          "base_uri": "https://localhost:8080/"
        },
        "id": "54jmK5nzqsNN",
        "outputId": "4cb8a4c3-5bc4-4dba-b7c7-cf42178ad324"
      },
      "source": [
        "type(deltaG)"
      ],
      "execution_count": null,
      "outputs": [
        {
          "output_type": "execute_result",
          "data": {
            "text/plain": [
              "float"
            ]
          },
          "metadata": {
            "tags": []
          },
          "execution_count": 14
        }
      ]
    },
    {
      "cell_type": "markdown",
      "metadata": {
        "id": "5gKumtBTq-lu"
      },
      "source": [
        "you can change the type of a variable, this is called **casting**."
      ]
    },
    {
      "cell_type": "code",
      "metadata": {
        "id": "h6REOwltqw46"
      },
      "source": [
        "deltaG_string = str(deltaG)"
      ],
      "execution_count": null,
      "outputs": []
    },
    {
      "cell_type": "code",
      "metadata": {
        "colab": {
          "base_uri": "https://localhost:8080/",
          "height": 35
        },
        "id": "utjZfxM9dFN4",
        "outputId": "f91e34ff-0c75-445e-cdaa-c448b7c81cb0"
      },
      "source": [
        "deltaG_string"
      ],
      "execution_count": null,
      "outputs": [
        {
          "output_type": "execute_result",
          "data": {
            "application/vnd.google.colaboratory.intrinsic+json": {
              "type": "string"
            },
            "text/plain": [
              "'-3200.04'"
            ]
          },
          "metadata": {
            "tags": []
          },
          "execution_count": 16
        }
      ]
    },
    {
      "cell_type": "code",
      "metadata": {
        "colab": {
          "base_uri": "https://localhost:8080/"
        },
        "id": "YJPxHXTZq4RP",
        "outputId": "82105d26-2b78-4691-d9ff-18f735bc1703"
      },
      "source": [
        "type(deltaG_string)"
      ],
      "execution_count": null,
      "outputs": [
        {
          "output_type": "execute_result",
          "data": {
            "text/plain": [
              "str"
            ]
          },
          "metadata": {
            "tags": []
          },
          "execution_count": 17
        }
      ]
    },
    {
      "cell_type": "markdown",
      "metadata": {
        "id": "eiRsAdTZrN4r"
      },
      "source": [
        "##Lists"
      ]
    },
    {
      "cell_type": "markdown",
      "metadata": {
        "id": "Aby0pz4YrZbW"
      },
      "source": [
        "A common and useful data structure in python is the **list**.<br> \n",
        "- Lists are heterogenous containers\n",
        "- can be used to store variables of different data types (floats, strings, ints, boolean values and even lists)\n",
        "- declared using square brackets [ ]\n",
        "- list values are separated by commas\n"
      ]
    },
    {
      "cell_type": "code",
      "metadata": {
        "id": "UEReejWs_u_2"
      },
      "source": [
        "numbers = [10, 24, 3, 4, 1, 8]"
      ],
      "execution_count": null,
      "outputs": []
    },
    {
      "cell_type": "code",
      "metadata": {
        "colab": {
          "base_uri": "https://localhost:8080/"
        },
        "id": "nfn829Mk_0hE",
        "outputId": "b2ed5d5f-715b-4a7c-897d-2620ba4d825d"
      },
      "source": [
        "print(numbers)"
      ],
      "execution_count": null,
      "outputs": [
        {
          "output_type": "stream",
          "text": [
            "[10, 24, 3, 4, 1, 8]\n"
          ],
          "name": "stdout"
        }
      ]
    },
    {
      "cell_type": "code",
      "metadata": {
        "id": "bRNt4X1FrXsD"
      },
      "source": [
        "words = [\"Hello\", \"my\", \"name\", \"is\", \"Joe\"]"
      ],
      "execution_count": null,
      "outputs": []
    },
    {
      "cell_type": "code",
      "metadata": {
        "colab": {
          "base_uri": "https://localhost:8080/"
        },
        "id": "kcmEDvMOADpH",
        "outputId": "4f9d8c97-cc7d-4c65-a7b7-0efa23e30c16"
      },
      "source": [
        "print(words)"
      ],
      "execution_count": null,
      "outputs": [
        {
          "output_type": "stream",
          "text": [
            "['Hello', 'my', 'name', 'is', 'Joe']\n"
          ],
          "name": "stdout"
        }
      ]
    },
    {
      "cell_type": "code",
      "metadata": {
        "colab": {
          "base_uri": "https://localhost:8080/"
        },
        "id": "1JJMvX9-I4zY",
        "outputId": "4db2a090-fc16-4f1a-d1a9-62e8618f6c18"
      },
      "source": [
        "mixed_types = [1, 2, 3, \"hello\", [4,5,6,7], deltaG]\n",
        "print(mixed_types)"
      ],
      "execution_count": null,
      "outputs": [
        {
          "output_type": "stream",
          "text": [
            "[1, 2, 3, 'hello', [4, 5, 6, 7], -3640700.0000000005]\n"
          ],
          "name": "stdout"
        }
      ]
    },
    {
      "cell_type": "markdown",
      "metadata": {
        "id": "qbB9u7vjjgiX"
      },
      "source": [
        "If I want to operate on a particular element of the list, you use the list name and then put in brackets which element of the list you want. In Python **counting starts at zero**. So the first element of the list is list[0].\n",
        "\n"
      ]
    },
    {
      "cell_type": "code",
      "metadata": {
        "colab": {
          "base_uri": "https://localhost:8080/",
          "height": 35
        },
        "id": "Iw9GjleSjAp6",
        "outputId": "2cd5ecc7-27e9-49df-fb57-feb521417493"
      },
      "source": [
        "words[0] # index zero extracts the first element"
      ],
      "execution_count": null,
      "outputs": [
        {
          "output_type": "execute_result",
          "data": {
            "application/vnd.google.colaboratory.intrinsic+json": {
              "type": "string"
            },
            "text/plain": [
              "'Hello'"
            ]
          },
          "metadata": {
            "tags": []
          },
          "execution_count": 44
        }
      ]
    },
    {
      "cell_type": "code",
      "metadata": {
        "colab": {
          "base_uri": "https://localhost:8080/",
          "height": 35
        },
        "id": "k-I8e-GCOVWW",
        "outputId": "a5c54af7-cd79-4692-8d93-899a31d84c8f"
      },
      "source": [
        "words[2] # index 2 extracts the third element"
      ],
      "execution_count": null,
      "outputs": [
        {
          "output_type": "execute_result",
          "data": {
            "application/vnd.google.colaboratory.intrinsic+json": {
              "type": "string"
            },
            "text/plain": [
              "'name'"
            ]
          },
          "metadata": {
            "tags": []
          },
          "execution_count": 45
        }
      ]
    },
    {
      "cell_type": "code",
      "metadata": {
        "colab": {
          "base_uri": "https://localhost:8080/",
          "height": 35
        },
        "id": "ThwtbkkKjry3",
        "outputId": "2546f956-20af-4c56-a322-4638b6752669"
      },
      "source": [
        "words[-1] #The last element of the list is at position -1"
      ],
      "execution_count": null,
      "outputs": [
        {
          "output_type": "execute_result",
          "data": {
            "application/vnd.google.colaboratory.intrinsic+json": {
              "type": "string"
            },
            "text/plain": [
              "'Joe'"
            ]
          },
          "metadata": {
            "tags": []
          },
          "execution_count": 43
        }
      ]
    },
    {
      "cell_type": "markdown",
      "metadata": {
        "id": "qfPpBzO7lmTh"
      },
      "source": [
        "<font color=\"Green\">**Test yourself:**</font><br>\n",
        "What is wrong with the following piece of code?<br>\n",
        "days = ['Monday', 'Tuesday', 'Wednesday', 'Thursday', 'Saturday', 'Sunday']<br>\n",
        "print('My favorite day is ', days[7]) "
      ]
    },
    {
      "cell_type": "markdown",
      "metadata": {
        "id": "e8MO2iq1nOQD"
      },
      "source": [
        "**list slices**"
      ]
    },
    {
      "cell_type": "markdown",
      "metadata": {
        "id": "Oe4F7hSendg6"
      },
      "source": [
        "Sometimes you will want to make a new list that is a subset of an existing list. For example, we might want to make a new list that is just the first few elements of our previous list. This is called a **slice**.<br>\n",
        "The generel syntax is : **new_list = old_list[start:end]**"
      ]
    },
    {
      "cell_type": "code",
      "metadata": {
        "id": "bXS9SezL0z-8"
      },
      "source": [
        "my_list = [1, 2, 3, 4, 5, 6, 7, 8, 9, 10] "
      ],
      "execution_count": null,
      "outputs": []
    },
    {
      "cell_type": "code",
      "metadata": {
        "colab": {
          "base_uri": "https://localhost:8080/"
        },
        "id": "aGUE43o-5Hnd",
        "outputId": "6197eac9-8e5a-44e3-f41a-eaad067fb4b2"
      },
      "source": [
        "#I want all elements except the first and the last ones\n",
        "my_list[1:-1] # or [1:9]"
      ],
      "execution_count": null,
      "outputs": [
        {
          "output_type": "execute_result",
          "data": {
            "text/plain": [
              "[2, 3, 4, 5, 6, 7, 8, 9]"
            ]
          },
          "metadata": {
            "tags": []
          },
          "execution_count": 48
        }
      ]
    },
    {
      "cell_type": "markdown",
      "metadata": {
        "id": "z72qwJBYkf0B"
      },
      "source": [
        "<font color=\"Green\">**Test yourself:**</font><br>\n",
        "- What does my_list[2:7] return?\n",
        "- What does my_list[4:] return?\n",
        "- What does my_list[:6] return?\n",
        "- what does my_list[:] return?\n",
        "*italicized text*"
      ]
    },
    {
      "cell_type": "code",
      "metadata": {
        "colab": {
          "base_uri": "https://localhost:8080/"
        },
        "id": "y2X6JyvVdQzO",
        "outputId": "6ba360fd-186b-4c4f-8eba-2521d016171e"
      },
      "source": [
        "my_list[2:7]"
      ],
      "execution_count": null,
      "outputs": [
        {
          "output_type": "execute_result",
          "data": {
            "text/plain": [
              "[3, 4, 5, 6, 7]"
            ]
          },
          "metadata": {
            "tags": []
          },
          "execution_count": 50
        }
      ]
    },
    {
      "cell_type": "code",
      "metadata": {
        "colab": {
          "base_uri": "https://localhost:8080/"
        },
        "id": "CgrFEYFvdXs2",
        "outputId": "6b8ed3bf-094e-4192-c39a-c4784679e53e"
      },
      "source": [
        "my_list[4:]"
      ],
      "execution_count": null,
      "outputs": [
        {
          "output_type": "execute_result",
          "data": {
            "text/plain": [
              "[5, 6, 7, 8, 9, 10]"
            ]
          },
          "metadata": {
            "tags": []
          },
          "execution_count": 51
        }
      ]
    },
    {
      "cell_type": "code",
      "metadata": {
        "colab": {
          "base_uri": "https://localhost:8080/"
        },
        "id": "eKAcKaK6dX3h",
        "outputId": "f3fca930-d4f2-413c-b42a-77dd53833d40"
      },
      "source": [
        "my_list[:6]"
      ],
      "execution_count": null,
      "outputs": [
        {
          "output_type": "execute_result",
          "data": {
            "text/plain": [
              "[1, 2, 3, 4, 5, 6]"
            ]
          },
          "metadata": {
            "tags": []
          },
          "execution_count": 52
        }
      ]
    },
    {
      "cell_type": "code",
      "metadata": {
        "colab": {
          "base_uri": "https://localhost:8080/"
        },
        "id": "uT0v8kTQdgPe",
        "outputId": "3a09116d-4037-4d66-d89e-a40fd0ea18c0"
      },
      "source": [
        "my_list[:]"
      ],
      "execution_count": null,
      "outputs": [
        {
          "output_type": "execute_result",
          "data": {
            "text/plain": [
              "[1, 2, 3, 4, 5, 6, 7, 8, 9, 10]"
            ]
          },
          "metadata": {
            "tags": []
          },
          "execution_count": 53
        }
      ]
    },
    {
      "cell_type": "markdown",
      "metadata": {
        "id": "FYNCvoF1iq8e"
      },
      "source": [
        "**List built in functions**"
      ]
    },
    {
      "cell_type": "markdown",
      "metadata": {
        "id": "da0tGpqcycK7"
      },
      "source": [
        "A Function is a block of code that in executed when it is called. You can write your own function and you can use many built-in functions that are ready for you to use.<br> \n",
        "The way you call a function is by writing the name of the function and passing a parameter to it ( the parameter is a usually a variable that goes inside the parenthesis)"
      ]
    },
    {
      "cell_type": "markdown",
      "metadata": {
        "id": "qSsluM2M_jkU"
      },
      "source": [
        "Python has several built in functions which can be used on lists. The built-in function len() can be used to determine the length of a list. This code block also demonstrates how to print multiple variables.<br><br>"
      ]
    },
    {
      "cell_type": "code",
      "metadata": {
        "id": "X0GNONFxAF0a"
      },
      "source": [
        "length_n = len(numbers)"
      ],
      "execution_count": null,
      "outputs": []
    },
    {
      "cell_type": "code",
      "metadata": {
        "colab": {
          "base_uri": "https://localhost:8080/"
        },
        "id": "dUHzp_QQnRIU",
        "outputId": "25ae1ec2-50b5-4c6d-91cb-c32773e5ef39"
      },
      "source": [
        "print(f'The length of numbers is {length_n}')"
      ],
      "execution_count": null,
      "outputs": [
        {
          "output_type": "stream",
          "text": [
            "The length of numbers is 6\n"
          ],
          "name": "stdout"
        }
      ]
    },
    {
      "cell_type": "code",
      "metadata": {
        "colab": {
          "base_uri": "https://localhost:8080/"
        },
        "id": "1lKBw4AtiRU_",
        "outputId": "228aae7d-b247-4af7-de89-d989595e4630"
      },
      "source": [
        "print(f'The length of words is {len(words)}')"
      ],
      "execution_count": null,
      "outputs": [
        {
          "output_type": "stream",
          "text": [
            "The length of words is 5\n"
          ],
          "name": "stdout"
        }
      ]
    },
    {
      "cell_type": "code",
      "metadata": {
        "id": "H9Q1SogoiTIX"
      },
      "source": [
        "sum_n = sum(numbers)"
      ],
      "execution_count": null,
      "outputs": []
    },
    {
      "cell_type": "code",
      "metadata": {
        "colab": {
          "base_uri": "https://localhost:8080/"
        },
        "id": "NwnE29W8nYZk",
        "outputId": "5257703b-8a8a-4e13-fa43-501a2c0fc957"
      },
      "source": [
        "print(f'The sum of the elements in numbers is {sum_n}')"
      ],
      "execution_count": null,
      "outputs": [
        {
          "output_type": "stream",
          "text": [
            "The sum of the elements in numbers is 50\n"
          ],
          "name": "stdout"
        }
      ]
    },
    {
      "cell_type": "code",
      "metadata": {
        "id": "Zwi2LeK3jGvF"
      },
      "source": [
        "min_n = min(numbers)"
      ],
      "execution_count": null,
      "outputs": []
    },
    {
      "cell_type": "code",
      "metadata": {
        "id": "yT8bDirHjPqK"
      },
      "source": [
        "max_n = max(numbers)"
      ],
      "execution_count": null,
      "outputs": []
    },
    {
      "cell_type": "code",
      "metadata": {
        "colab": {
          "base_uri": "https://localhost:8080/"
        },
        "id": "fsMwbRQJnvYG",
        "outputId": "8972170d-d643-4148-ff1c-261685bb8695"
      },
      "source": [
        "print(f'The smallest number in numbers is {min_n} and the largest is {max_n}')"
      ],
      "execution_count": null,
      "outputs": [
        {
          "output_type": "stream",
          "text": [
            "The smallest number in numbers is 1 and the largest is 24\n"
          ],
          "name": "stdout"
        }
      ]
    },
    {
      "cell_type": "markdown",
      "metadata": {
        "id": "CzmN9UuFO44w"
      },
      "source": [
        "list.sort() sorts the underlying list in place:"
      ]
    },
    {
      "cell_type": "code",
      "metadata": {
        "id": "GYETlTB8O4F9"
      },
      "source": [
        "numbers.sort()"
      ],
      "execution_count": null,
      "outputs": []
    },
    {
      "cell_type": "code",
      "metadata": {
        "colab": {
          "base_uri": "https://localhost:8080/"
        },
        "id": "83x8WBt9PZHp",
        "outputId": "79cf7844-1715-4ee5-c3a1-c96c85a07093"
      },
      "source": [
        "print(numbers) # note you changed the list"
      ],
      "execution_count": null,
      "outputs": [
        {
          "output_type": "stream",
          "text": [
            "[1, 3, 4, 8, 10, 24]\n"
          ],
          "name": "stdout"
        }
      ]
    },
    {
      "cell_type": "markdown",
      "metadata": {
        "id": "ravMFiv2Pu2e"
      },
      "source": [
        "**you can add lists**"
      ]
    },
    {
      "cell_type": "code",
      "metadata": {
        "colab": {
          "base_uri": "https://localhost:8080/"
        },
        "id": "Shr0VaZNP03_",
        "outputId": "c1ee1b18-92a1-4d17-fda3-c659b94fb3bb"
      },
      "source": [
        "fruits = [\"apples\", \"bananas\", \"oranges\"]\n",
        "vegetables = [\"lettuce\", \"kale\", \"mushrooms\"]\n",
        "groceries_list = fruits + vegetables\n",
        "print(groceries_list)"
      ],
      "execution_count": null,
      "outputs": [
        {
          "output_type": "stream",
          "text": [
            "['apples', 'bananas', 'oranges', 'lettuce', 'kale', 'mushrooms']\n"
          ],
          "name": "stdout"
        }
      ]
    },
    {
      "cell_type": "markdown",
      "metadata": {
        "id": "8wgYYQ1NN20c"
      },
      "source": [
        "The function **append()** adds an element to the end of the list"
      ]
    },
    {
      "cell_type": "code",
      "metadata": {
        "id": "LWlhdCCDY-x6"
      },
      "source": [
        "groceries_list.append(\"apples\") "
      ],
      "execution_count": null,
      "outputs": []
    },
    {
      "cell_type": "code",
      "metadata": {
        "colab": {
          "base_uri": "https://localhost:8080/"
        },
        "id": "AgqrTHtVen1C",
        "outputId": "626a4acb-36c7-4c15-c271-e4c3cb3beeb0"
      },
      "source": [
        "print(groceries_list)"
      ],
      "execution_count": null,
      "outputs": [
        {
          "output_type": "stream",
          "text": [
            "['apples', 'bananas', 'oranges', 'lettuce', 'kale', 'mushrooms', 'apples']\n"
          ],
          "name": "stdout"
        }
      ]
    },
    {
      "cell_type": "markdown",
      "metadata": {
        "id": "1y1zNpK4Y6mm"
      },
      "source": [
        "you can count how many times an element is found in a list"
      ]
    },
    {
      "cell_type": "code",
      "metadata": {
        "colab": {
          "base_uri": "https://localhost:8080/"
        },
        "id": "TJyDXQe9ZLBR",
        "outputId": "e0c99b2a-7697-4d86-b553-56e0b057a001"
      },
      "source": [
        "groceries_list.count(\"apples\")"
      ],
      "execution_count": null,
      "outputs": [
        {
          "output_type": "execute_result",
          "data": {
            "text/plain": [
              "2"
            ]
          },
          "metadata": {
            "tags": []
          },
          "execution_count": 39
        }
      ]
    },
    {
      "cell_type": "code",
      "metadata": {
        "colab": {
          "base_uri": "https://localhost:8080/"
        },
        "id": "6YjwHKJcZZ0m",
        "outputId": "a3413628-3463-4e8d-d935-568ed1b7f15c"
      },
      "source": [
        "groceries_list.count(\"kale\")"
      ],
      "execution_count": null,
      "outputs": [
        {
          "output_type": "execute_result",
          "data": {
            "text/plain": [
              "1"
            ]
          },
          "metadata": {
            "tags": []
          },
          "execution_count": 43
        }
      ]
    },
    {
      "cell_type": "markdown",
      "metadata": {
        "id": "KXrwnwP7ibdH"
      },
      "source": [
        "The functions **pop()** and **remove()** removes an element from the list"
      ]
    },
    {
      "cell_type": "code",
      "metadata": {
        "id": "hNd35XPGhC32"
      },
      "source": [
        "groceries_list.remove('bananas')"
      ],
      "execution_count": null,
      "outputs": []
    },
    {
      "cell_type": "code",
      "metadata": {
        "colab": {
          "base_uri": "https://localhost:8080/"
        },
        "id": "o1tEUJ7zhHpu",
        "outputId": "0dffe555-ec28-4058-ecc1-58c2134601a2"
      },
      "source": [
        "groceries_list"
      ],
      "execution_count": null,
      "outputs": [
        {
          "output_type": "execute_result",
          "data": {
            "text/plain": [
              "['apples', 'oranges', 'lettuce', 'kale', 'mushrooms', 'apples']"
            ]
          },
          "metadata": {
            "tags": []
          },
          "execution_count": 62
        }
      ]
    },
    {
      "cell_type": "markdown",
      "metadata": {
        "id": "u6iyX9JLZgA8"
      },
      "source": [
        "you can find the position of an element in a list"
      ]
    },
    {
      "cell_type": "code",
      "metadata": {
        "colab": {
          "base_uri": "https://localhost:8080/"
        },
        "id": "mycqrYo4ZktI",
        "outputId": "556c0cae-49bf-4734-aa20-9b2781998176"
      },
      "source": [
        "groceries_list.index('oranges')"
      ],
      "execution_count": null,
      "outputs": [
        {
          "output_type": "execute_result",
          "data": {
            "text/plain": [
              "1"
            ]
          },
          "metadata": {
            "tags": []
          },
          "execution_count": 63
        }
      ]
    },
    {
      "cell_type": "markdown",
      "metadata": {
        "id": "OAfmYhw80O1U"
      },
      "source": [
        "remove() does the same as pop(), except it just deletes the element from the list, it does not retrieve the element"
      ]
    },
    {
      "cell_type": "code",
      "metadata": {
        "colab": {
          "base_uri": "https://localhost:8080/"
        },
        "id": "a6e0BM7VYm0U",
        "outputId": "49453c05-d11a-472b-dcce-ca88c65560db"
      },
      "source": [
        "\"apples\" in fruits # you can search for values in a list"
      ],
      "execution_count": null,
      "outputs": [
        {
          "output_type": "execute_result",
          "data": {
            "text/plain": [
              "True"
            ]
          },
          "metadata": {
            "tags": []
          },
          "execution_count": 58
        }
      ]
    },
    {
      "cell_type": "code",
      "metadata": {
        "colab": {
          "base_uri": "https://localhost:8080/"
        },
        "id": "iGYB906gY0Aq",
        "outputId": "3dc705aa-e5b9-4e3f-908e-ce82d2a888a7"
      },
      "source": [
        "\"apples\" in vegetables"
      ],
      "execution_count": null,
      "outputs": [
        {
          "output_type": "execute_result",
          "data": {
            "text/plain": [
              "False"
            ]
          },
          "metadata": {
            "tags": []
          },
          "execution_count": 37
        }
      ]
    },
    {
      "cell_type": "markdown",
      "metadata": {
        "id": "ukU9LVo36CUk"
      },
      "source": [
        "##Repeating an operation many times: **for loops** and **while loops**"
      ]
    },
    {
      "cell_type": "markdown",
      "metadata": {
        "id": "Md4CjbgzaiTR"
      },
      "source": [
        "If you need to repeat a piece of code several times to get a final result, then you might need to use a loop. Loops are a common way of iterating multiple times and performing some actions in each iteration. Python provides two types of loops:\n",
        "\n",
        "- for loops for definite iteration, or performing a set number or repetitions\n",
        "- while loops for indefinite iteration, or repeating until a given condition is met<br><br>\n",
        "Often, you will want to do something to every element of a list. The structure to do this is called a for loop. The general structure of a for loop is<br><br>\n",
        "<font color=\"Green\">**for**</font> variable <font color=\"green\">**in**</font> list:<br>\n",
        "&nbsp;&nbsp;&nbsp;&nbsp;&nbsp;&nbsp;do something using  variable <br>\n",
        "<br>\n"
      ]
    },
    {
      "cell_type": "markdown",
      "metadata": {
        "id": "ZnqPGiFp78Dv"
      },
      "source": [
        "\n",
        "There are two very important pieces of syntax for the for loop. Notice the **colon :** after the word list. You will always have a colon at the end of a for statement. If you forget the colon, you will get an error when you try to run your code.<br>\n",
        "\n",
        "The second thing to notice is that the lines of code under the for loop (the things you want to do several times) are **indented**. Indentation is very important in python. There is nothing like an end or exit statement that tells you that you are finished with the loop. The indentation shows you what statements are in the loop. Each indentation is 4 spaces by convention in Python 3. However, if you are using an editor which understands Python, it will do the correct indentation for you when you press the tab key on your keyboard.\n",
        "\n"
      ]
    },
    {
      "cell_type": "code",
      "metadata": {
        "colab": {
          "base_uri": "https://localhost:8080/"
        },
        "id": "03tOisJ52CZb",
        "outputId": "e535e8c3-22c3-45c2-f0de-5abdb597c331"
      },
      "source": [
        "my_list"
      ],
      "execution_count": null,
      "outputs": [
        {
          "output_type": "execute_result",
          "data": {
            "text/plain": [
              "[1, 2, 3, 4, 5, 6, 7, 8, 9, 10]"
            ]
          },
          "metadata": {
            "tags": []
          },
          "execution_count": 66
        }
      ]
    },
    {
      "cell_type": "code",
      "metadata": {
        "colab": {
          "base_uri": "https://localhost:8080/"
        },
        "id": "DpC8vBoa_Nyl",
        "outputId": "6b0f1baa-fcb2-4e95-a2f7-cc0435e9733c"
      },
      "source": [
        "for element in my_list:\n",
        "  new_element = element * 10\n",
        "  print(new_element)"
      ],
      "execution_count": null,
      "outputs": [
        {
          "output_type": "stream",
          "text": [
            "10\n",
            "20\n",
            "30\n",
            "40\n",
            "50\n",
            "60\n",
            "70\n",
            "80\n",
            "90\n",
            "100\n"
          ],
          "name": "stdout"
        }
      ]
    },
    {
      "cell_type": "markdown",
      "metadata": {
        "id": "Q1yVmeNkAluH"
      },
      "source": [
        "We are making progress, let's just not print the new elements but let's put them in a new list. We will use the append function we saw before. "
      ]
    },
    {
      "cell_type": "code",
      "metadata": {
        "colab": {
          "base_uri": "https://localhost:8080/",
          "height": 198
        },
        "id": "8z_zjn7bAZFg",
        "outputId": "f1313b73-6fcc-4cfb-9a58-7058b59bc35a"
      },
      "source": [
        "for element in my_list:\n",
        "  new_element = element * 10\n",
        "  mod_list.append(new_element)  "
      ],
      "execution_count": null,
      "outputs": [
        {
          "output_type": "error",
          "ename": "NameError",
          "evalue": "ignored",
          "traceback": [
            "\u001b[0;31m---------------------------------------------------------------------------\u001b[0m",
            "\u001b[0;31mNameError\u001b[0m                                 Traceback (most recent call last)",
            "\u001b[0;32m<ipython-input-68-a13507c561c6>\u001b[0m in \u001b[0;36m<module>\u001b[0;34m()\u001b[0m\n\u001b[1;32m      1\u001b[0m \u001b[0;32mfor\u001b[0m \u001b[0melement\u001b[0m \u001b[0;32min\u001b[0m \u001b[0mmy_list\u001b[0m\u001b[0;34m:\u001b[0m\u001b[0;34m\u001b[0m\u001b[0;34m\u001b[0m\u001b[0m\n\u001b[1;32m      2\u001b[0m   \u001b[0mnew_element\u001b[0m \u001b[0;34m=\u001b[0m \u001b[0melement\u001b[0m \u001b[0;34m*\u001b[0m \u001b[0;36m10\u001b[0m\u001b[0;34m\u001b[0m\u001b[0;34m\u001b[0m\u001b[0m\n\u001b[0;32m----> 3\u001b[0;31m   \u001b[0mmod_list\u001b[0m\u001b[0;34m.\u001b[0m\u001b[0mappend\u001b[0m\u001b[0;34m(\u001b[0m\u001b[0mnew_element\u001b[0m\u001b[0;34m)\u001b[0m\u001b[0;34m\u001b[0m\u001b[0;34m\u001b[0m\u001b[0m\n\u001b[0m",
            "\u001b[0;31mNameError\u001b[0m: name 'mod_list' is not defined"
          ]
        }
      ]
    },
    {
      "cell_type": "markdown",
      "metadata": {
        "id": "050BaDJjBHoA"
      },
      "source": [
        "This code doesn’t work because on the first iteration of our loop, the list mod_list doesn’t exist. To make it work, we have to define the list outside of the loop. The list can be empty when we start it, but we have to define it."
      ]
    },
    {
      "cell_type": "code",
      "metadata": {
        "id": "Y5zKNpMtA4EV"
      },
      "source": [
        "mod_list = []\n",
        "for element in my_list:\n",
        "  new_element = element * 10\n",
        "  mod_list.append(new_element)  "
      ],
      "execution_count": null,
      "outputs": []
    },
    {
      "cell_type": "code",
      "metadata": {
        "colab": {
          "base_uri": "https://localhost:8080/"
        },
        "id": "nxTI6BbFBYpz",
        "outputId": "13fd2d28-cc11-479a-e4ba-eaa2feb183c0"
      },
      "source": [
        "mod_list"
      ],
      "execution_count": null,
      "outputs": [
        {
          "output_type": "execute_result",
          "data": {
            "text/plain": [
              "[10, 20, 30, 40, 50, 60, 70, 80, 90, 100]"
            ]
          },
          "metadata": {
            "tags": []
          },
          "execution_count": 70
        }
      ]
    },
    {
      "cell_type": "markdown",
      "metadata": {
        "id": "odOjn9YdZR7n"
      },
      "source": [
        "##Booleans<br>\n",
        "Python has two constants, cleverly named True and False, which can be used to assign boolean values directly. An expression can also evaluate to a boolean value."
      ]
    },
    {
      "cell_type": "code",
      "metadata": {
        "id": "q9K3wyNyU77s"
      },
      "source": [
        "size = 1"
      ],
      "execution_count": null,
      "outputs": []
    },
    {
      "cell_type": "code",
      "metadata": {
        "colab": {
          "base_uri": "https://localhost:8080/"
        },
        "id": "d_m8Dfg2U99b",
        "outputId": "383558e1-fea1-421c-a42d-cad8de3c117a"
      },
      "source": [
        "size > 0"
      ],
      "execution_count": null,
      "outputs": [
        {
          "output_type": "execute_result",
          "data": {
            "text/plain": [
              "True"
            ]
          },
          "metadata": {
            "tags": []
          },
          "execution_count": 13
        }
      ]
    },
    {
      "cell_type": "code",
      "metadata": {
        "colab": {
          "base_uri": "https://localhost:8080/"
        },
        "id": "JZMUsW9FVDnY",
        "outputId": "33b15990-9993-4df6-ec5d-7c1b076f2115"
      },
      "source": [
        "size < 0 "
      ],
      "execution_count": null,
      "outputs": [
        {
          "output_type": "execute_result",
          "data": {
            "text/plain": [
              "False"
            ]
          },
          "metadata": {
            "tags": []
          },
          "execution_count": 14
        }
      ]
    },
    {
      "cell_type": "markdown",
      "metadata": {
        "id": "2qqS-kPga0xg"
      },
      "source": [
        "size is an integer, 0 is an integer, and < is a numerical operator. The result of the expression size < 0 is always a boolean. "
      ]
    },
    {
      "cell_type": "markdown",
      "metadata": {
        "id": "hPrO2E6wBfUj"
      },
      "source": [
        "###Making choices: **if statements**"
      ]
    },
    {
      "cell_type": "markdown",
      "metadata": {
        "id": "2wyFPGWAQzVw"
      },
      "source": [
        "Within your code, you may need to evaluate a variable and then do something if the variable has a particular value. This type of logic is handled by an if statement. <br><br>\n",
        "We need to remember logic operations:<br>\n",
        "- equal to ==\n",
        "- not equal to !=\n",
        "- greater than >\n",
        "- greater than or equal to >=\n",
        "- less than <\n",
        "- less than or equal to <=\n"
      ]
    },
    {
      "cell_type": "markdown",
      "metadata": {
        "id": "TgMmIT24lzP8"
      },
      "source": [
        "if expr0:<br>\n",
        "&nbsp;&nbsp;&nbsp;&nbsp;&nbsp;&nbsp;Run if expr0 is true<br>\n",
        "elif expr1:<br>\n",
        "&nbsp;&nbsp;&nbsp;&nbsp;&nbsp;&nbsp;Run if expr1 is true<br>\n",
        "elif expr2:<br>\n",
        " &nbsp;&nbsp;&nbsp;&nbsp;&nbsp;&nbsp;Run if expr2 is true<br>\n",
        "&nbsp;&nbsp;&nbsp;&nbsp;&nbsp;&nbsp;...<br>\n",
        "else:<br>\n",
        "&nbsp;&nbsp;&nbsp;&nbsp;&nbsp;&nbsp;Run if all expressions are false\n",
        "\n",
        "Next statement"
      ]
    },
    {
      "cell_type": "code",
      "metadata": {
        "colab": {
          "base_uri": "https://localhost:8080/"
        },
        "id": "chjktxi5qrho",
        "outputId": "0c9c342f-cfd3-4af0-b3ec-2e71f774428a"
      },
      "source": [
        "age = 21\n",
        "if age >= 18:\n",
        "  print('You are a legal adult')"
      ],
      "execution_count": null,
      "outputs": [
        {
          "output_type": "stream",
          "text": [
            "You are a legal adult\n"
          ],
          "name": "stdout"
        }
      ]
    },
    {
      "cell_type": "code",
      "metadata": {
        "colab": {
          "base_uri": "https://localhost:8080/"
        },
        "id": "7Md6EZHsq4H_",
        "outputId": "7c6c94dd-a61b-47d0-e6d8-04cfe95a1819"
      },
      "source": [
        "age = 16\n",
        "if age >= 18:\n",
        "    print('You are a legal adult')\n",
        "else:\n",
        "    print('You are NOT a legal adult')"
      ],
      "execution_count": null,
      "outputs": [
        {
          "output_type": "stream",
          "text": [
            "You are NOT a legal adult\n"
          ],
          "name": "stdout"
        }
      ]
    },
    {
      "cell_type": "code",
      "metadata": {
        "colab": {
          "base_uri": "https://localhost:8080/"
        },
        "id": "7jEU06IHrzec",
        "outputId": "ccf0c5d8-ca59-4eea-902d-0aa6b865017c"
      },
      "source": [
        "age = 18\n",
        "if age > 18:\n",
        "    print('You are a legal adult')\n",
        "elif age == 18:\n",
        "    print('You are exactly 18 years old')"
      ],
      "execution_count": null,
      "outputs": [
        {
          "output_type": "stream",
          "text": [
            "You are exactly 18 years old\n"
          ],
          "name": "stdout"
        }
      ]
    },
    {
      "cell_type": "markdown",
      "metadata": {
        "id": "38tTtYrLsI2F"
      },
      "source": [
        "In the first example, age is equal to 21, so the condition is true, and Python prints You're a legal adult to your screen. In the second example, the expression age >= 18 evaluates to False, so Python runs the code block of the else clause and prints You're NOT an adult on your screen.\n",
        "\n",
        "In the final example, the first expression, age > 18, is false, so the execution jumps to the elif clause. The condition in this clause is true, so Python runs the associated code block and prints You're exactly 18 years old.\n"
      ]
    },
    {
      "cell_type": "markdown",
      "metadata": {
        "id": "gkxY8v1IybIK"
      },
      "source": [
        "A very usefull function when it comes to working with lists and loops is **range()**. <br>\n",
        "The **range** function creates a sequence of numbers between two numbers.<br>\n",
        "The syntax is as follows: range(start, end, step).<br>\n",
        "_start_ is optional and is set to zero by default<br>\n",
        "_stop_ is required<br>\n",
        "_step_ is optional and is set to one by default.\n"
      ]
    },
    {
      "cell_type": "code",
      "metadata": {
        "colab": {
          "base_uri": "https://localhost:8080/"
        },
        "id": "1yiAZrNcSwA5",
        "outputId": "d412df86-34ca-4365-92fe-24354dfc6ce1"
      },
      "source": [
        "for n in range(5):\n",
        "  print(n)"
      ],
      "execution_count": null,
      "outputs": [
        {
          "output_type": "stream",
          "text": [
            "0\n",
            "1\n",
            "2\n",
            "3\n",
            "4\n"
          ],
          "name": "stdout"
        }
      ]
    },
    {
      "cell_type": "code",
      "metadata": {
        "colab": {
          "base_uri": "https://localhost:8080/"
        },
        "id": "lRJgG71AS3dp",
        "outputId": "9cf3b792-b93d-4cd5-994f-548e56e1e4b4"
      },
      "source": [
        "for n in range(2,20,2):\n",
        "  print(n)"
      ],
      "execution_count": null,
      "outputs": [
        {
          "output_type": "stream",
          "text": [
            "2\n",
            "4\n",
            "6\n",
            "8\n",
            "10\n",
            "12\n",
            "14\n",
            "16\n",
            "18\n"
          ],
          "name": "stdout"
        }
      ]
    },
    {
      "cell_type": "markdown",
      "metadata": {
        "id": "B94SBnUWTw5v"
      },
      "source": [
        "Let's combine for loops with if statements. In the following example, we only append the negative numbers to a new list."
      ]
    },
    {
      "cell_type": "code",
      "metadata": {
        "id": "UGzEzR_aBZ8V"
      },
      "source": [
        "numbers = list(range(-10,10))"
      ],
      "execution_count": null,
      "outputs": []
    },
    {
      "cell_type": "code",
      "metadata": {
        "colab": {
          "base_uri": "https://localhost:8080/"
        },
        "id": "0VqpAg-_RwvH",
        "outputId": "69298a55-7303-4842-aa4c-ebff41da0359"
      },
      "source": [
        "numbers"
      ],
      "execution_count": null,
      "outputs": [
        {
          "output_type": "execute_result",
          "data": {
            "text/plain": [
              "[-10, -9, -8, -7, -6, -5, -4, -3, -2, -1, 0, 1, 2, 3, 4, 5, 6, 7, 8, 9]"
            ]
          },
          "metadata": {
            "tags": []
          },
          "execution_count": 4
        }
      ]
    },
    {
      "cell_type": "code",
      "metadata": {
        "colab": {
          "base_uri": "https://localhost:8080/"
        },
        "id": "sOGzuBaZRx6v",
        "outputId": "47dede14-96f6-4d8b-8784-b479735270fe"
      },
      "source": [
        "negative_numbers = []\n",
        "for number in numbers:\n",
        "  if number < 0 :\n",
        "    negative_numbers.append(number)\n",
        "print(negative_numbers)    "
      ],
      "execution_count": null,
      "outputs": [
        {
          "output_type": "stream",
          "text": [
            "[-10, -9, -8, -7, -6, -5, -4, -3, -2, -1]\n"
          ],
          "name": "stdout"
        }
      ]
    },
    {
      "cell_type": "markdown",
      "metadata": {
        "id": "m_KwVX1AS2oP"
      },
      "source": [
        "If now we want to make two lists, one with negative numbers and one with positive numbers:"
      ]
    },
    {
      "cell_type": "code",
      "metadata": {
        "colab": {
          "base_uri": "https://localhost:8080/"
        },
        "id": "9frBr6PbTBUd",
        "outputId": "9fa9e728-b34f-4211-e5ee-a5144ec07aec"
      },
      "source": [
        "negative_numbers = []\n",
        "positive_numbers = []\n",
        "for number in numbers:\n",
        "    if number < 0 :\n",
        "        negative_numbers.append(number)\n",
        "    else:\n",
        "        positive_numbers.append(number)\n",
        "print(f'Negative: {negative_numbers}')\n",
        "print(f'Positive: {positive_numbers}')    "
      ],
      "execution_count": null,
      "outputs": [
        {
          "output_type": "stream",
          "text": [
            "Negative: [-10, -9, -8, -7, -6, -5, -4, -3, -2, -1]\n",
            "Positive: [0, 1, 2, 3, 4, 5, 6, 7, 8, 9]\n"
          ],
          "name": "stdout"
        }
      ]
    },
    {
      "cell_type": "markdown",
      "metadata": {
        "id": "ewCmxlfKVv42"
      },
      "source": [
        "**While loops**"
      ]
    },
    {
      "cell_type": "markdown",
      "metadata": {
        "id": "yaYmSPS9dAvF"
      },
      "source": [
        "In a for loop, you know ahead of time how many iterations you are going to make. You normally use a **while loop** when you don’t know beforehand how many iterations you need to complete a given operation. That’s why this loop is used to perform indefinite iterations.\n",
        "\n",
        "Here’s the general syntax for a while loop in Python:<br><br>\n",
        "<font color='blue'>while</font> expression:<br>\n",
        "&nbsp;&nbsp;&nbsp;&nbsp;&nbsp; repeat this code block until expression is false<br>\n",
        "&nbsp;&nbsp;&nbsp;&nbsp;&nbsp; do something<br>\n",
        "&nbsp;&nbsp;&nbsp;&nbsp;&nbsp; if break_condition:<br>\n",
        "&nbsp;&nbsp;&nbsp;&nbsp;&nbsp; &nbsp;&nbsp;&nbsp;&nbsp;&nbsp; break<br>\n",
        "else:<br>\n",
        "&nbsp;&nbsp;&nbsp;&nbsp;&nbsp; loop wasn't interrupted<br>\n",
        "&nbsp;&nbsp;&nbsp;&nbsp;&nbsp; run this statement\n"
      ]
    },
    {
      "cell_type": "code",
      "metadata": {
        "colab": {
          "base_uri": "https://localhost:8080/"
        },
        "id": "EN3C9T9hwtYI",
        "outputId": "fe6fe9e8-e6a2-4f84-8fa8-9a178163cc5d"
      },
      "source": [
        "count = 1\n",
        "while count < 5:\n",
        "    print(count)\n",
        "    count = count + 1\n",
        "\n",
        "print(\"count: \", count)    "
      ],
      "execution_count": null,
      "outputs": [
        {
          "output_type": "stream",
          "text": [
            "1\n",
            "2\n",
            "3\n",
            "4\n",
            "count:  5\n"
          ],
          "name": "stdout"
        }
      ]
    },
    {
      "cell_type": "markdown",
      "metadata": {
        "id": "V3cRAPFDTJSz"
      },
      "source": [
        "##Plotting with Matplotlib"
      ]
    },
    {
      "cell_type": "markdown",
      "metadata": {
        "id": "GltWHEvOTdbL"
      },
      "source": [
        "A picture is worth a thousand words, and with Python’s matplotlib library, it fortunately takes far less than a thousand words of code to create a production-quality graphic. <br>\n",
        "Learning matplotlib can be a frustrating process at times, the library is huge and the documentation ies endless and some of it is out-of-date. Still, matplotlib is a very powerful tool when it comes to visualize your data.<br>\n",
        "We can use Matplotlib by adding just one line to our code:"
      ]
    },
    {
      "cell_type": "code",
      "metadata": {
        "id": "ToJZgULLUQ3-"
      },
      "source": [
        "import matplotlib.pyplot as plt\n",
        "%matplotlib inline"
      ],
      "execution_count": null,
      "outputs": []
    },
    {
      "cell_type": "code",
      "metadata": {
        "colab": {
          "base_uri": "https://localhost:8080/",
          "height": 265
        },
        "id": "cQNidOBRbM2k",
        "outputId": "b5d3b6eb-15d5-44ee-b930-d7122c559ba8"
      },
      "source": [
        "plt.plot([1,2,3,4,10,19, 12])\n",
        "plt.show()"
      ],
      "execution_count": null,
      "outputs": [
        {
          "output_type": "display_data",
          "data": {
            "image/png": "[encoded data removed]",
            "text/plain": [
              "<Figure size 432x288 with 1 Axes>"
            ]
          },
          "metadata": {
            "tags": [],
            "needs_background": "light"
          }
        }
      ]
    },
    {
      "cell_type": "markdown",
      "metadata": {
        "id": "SoHZFvjhb6R-"
      },
      "source": [
        "I just gave a list of numbers to plt.plot() and it drew a line chart automatically. It assumed the values of the X-axis to start from zero going up to as many items in the data.<br>\n"
      ]
    },
    {
      "cell_type": "markdown",
      "metadata": {
        "id": "DWfdcRd3cF3l"
      },
      "source": [
        "**How do we draw a scatterplot?**<br>\n",
        "The plt.plot accepts 3 basic arguments in the following order: (x, y, format). This format is a short hand combination of {color}{marker}{line}"
      ]
    },
    {
      "cell_type": "markdown",
      "metadata": {
        "id": "PqS0hFNxcZJk"
      },
      "source": [
        "let's draw a scaytterplot with red dots"
      ]
    },
    {
      "cell_type": "code",
      "metadata": {
        "colab": {
          "base_uri": "https://localhost:8080/",
          "height": 265
        },
        "id": "YjmsmaQTbQc3",
        "outputId": "c44c7991-86f3-435e-c703-eecf9340dec5"
      },
      "source": [
        "plt.plot([1,2,3,4,5], [1,2,3,4,10], 'ro')\n",
        "plt.show()"
      ],
      "execution_count": null,
      "outputs": [
        {
          "output_type": "display_data",
          "data": {
            "image/png": "[encoded data removed]",
            "text/plain": [
              "<Figure size 432x288 with 1 Axes>"
            ]
          },
          "metadata": {
            "tags": [],
            "needs_background": "light"
          }
        }
      ]
    },
    {
      "cell_type": "markdown",
      "metadata": {
        "id": "wLnC9XWaclne"
      },
      "source": [
        "how do we draw 2 scatter plots?"
      ]
    },
    {
      "cell_type": "code",
      "metadata": {
        "colab": {
          "base_uri": "https://localhost:8080/",
          "height": 265
        },
        "id": "8uDbtQE9cjG3",
        "outputId": "ad4746a0-1b3c-44f0-afaa-df14a58de7d5"
      },
      "source": [
        "plt.plot([1,2,3,4,5], [1,2,3,4,10], 'ro')  # red dots\n",
        "plt.plot([1,2,3,4,5], [2,3,4,5,11], 'b*')  # blue stars\n",
        "plt.show()"
      ],
      "execution_count": null,
      "outputs": [
        {
          "output_type": "display_data",
          "data": {
            "image/png": "[encoded data removed]",
            "text/plain": [
              "<Figure size 432x288 with 1 Axes>"
            ]
          },
          "metadata": {
            "tags": [],
            "needs_background": "light"
          }
        }
      ]
    },
    {
      "cell_type": "code",
      "metadata": {
        "id": "Wh1k2KRycxzR"
      },
      "source": [
        ""
      ],
      "execution_count": null,
      "outputs": []
    },
    {
      "cell_type": "markdown",
      "metadata": {
        "id": "b1qz31rNc0vI"
      },
      "source": [
        "Looks good. Now let’s add the basic plot features: Title, Legend, X and Y axis labels. How to do that? The plt object has corresponding methods to add each of this."
      ]
    },
    {
      "cell_type": "code",
      "metadata": {
        "colab": {
          "base_uri": "https://localhost:8080/",
          "height": 295
        },
        "id": "IPZB2Yrgc1gR",
        "outputId": "527aa85c-4fda-45bd-82b4-9d953e60da7b"
      },
      "source": [
        "plt.plot([1,2,3,4,5], [1,2,3,4,10], 'ro', label='Red Dots')\n",
        "plt.plot([1,2,3,4,5], [2,3,4,5,11], 'b*', label='Blue Stars')\n",
        "plt.title('My first Scatterplot')\n",
        "plt.xlabel('X')\n",
        "plt.ylabel('Y')\n",
        "plt.legend(loc='best')  # legend text comes from the plot's label parameter.\n",
        "plt.show()"
      ],
      "execution_count": null,
      "outputs": [
        {
          "output_type": "display_data",
          "data": {
            "image/png": "[encoded data removed]",
            "text/plain": [
              "<Figure size 432x288 with 1 Axes>"
            ]
          },
          "metadata": {
            "tags": [],
            "needs_background": "light"
          }
        }
      ]
    },
    {
      "cell_type": "markdown",
      "metadata": {
        "id": "rvRoFPOEdUbq"
      },
      "source": [
        "we can make it larger"
      ]
    },
    {
      "cell_type": "code",
      "metadata": {
        "colab": {
          "base_uri": "https://localhost:8080/",
          "height": 458
        },
        "id": "cYVkN4FddIK6",
        "outputId": "003ece86-5d5f-4c6e-c8bf-b1bee3656ff7"
      },
      "source": [
        "plt.figure(figsize=(10,7)) # 10 is width, 7 is height\n",
        "plt.plot([1,2,3,4,5], [1,2,3,4,10], 'ro', label='Red Dots')\n",
        "plt.plot([1,2,3,4,5], [2,3,4,5,11], 'b*', label='Blue Stars')\n",
        "plt.title('My first Scatterplot')\n",
        "plt.xlabel('X')\n",
        "plt.ylabel('Y')\n",
        "plt.legend(loc='best')  # legend text comes from the plot's label parameter.\n",
        "plt.show()"
      ],
      "execution_count": null,
      "outputs": [
        {
          "output_type": "display_data",
          "data": {
            "image/png": "[encoded data removed]",
            "text/plain": [
              "<Figure size 720x504 with 1 Axes>"
            ]
          },
          "metadata": {
            "tags": [],
            "needs_background": "light"
          }
        }
      ]
    },
    {
      "cell_type": "code",
      "metadata": {
        "id": "_CiYVmk6denF"
      },
      "source": [
        ""
      ],
      "execution_count": null,
      "outputs": []
    }
  ]
}